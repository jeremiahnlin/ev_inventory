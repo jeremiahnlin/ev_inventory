{
 "cells": [
  {
   "cell_type": "code",
   "execution_count": 4,
   "id": "30e1de10-f2e1-46b7-9734-27f00ad43f50",
   "metadata": {},
   "outputs": [
    {
     "name": "stdout",
     "output_type": "stream",
     "text": [
      "   Key                     Item  Quantity              Location  \\\n",
      "0  NaN    Ad Tech, Hot Glue Gun       1.0            ESPL shelf   \n",
      "1  NaN  Black & Decker, Bit Set       1.0  ESPL rolling cabinet   \n",
      "2  NaN     Bosch, Drill Bit Set       1.0  ESPL rolling cabinet   \n",
      "3  NaN       CeeTee Co., Pliers       1.0  ESPL rolling cabinet   \n",
      "4  NaN   Craftsan evolv, Pliers       1.0  ESPL rolling cabinet   \n",
      "\n",
      "  Subteam Category  Reorder Quantity  Order Link  \n",
      "0      Mechposite                NaN         NaN  \n",
      "1      Mechposite                NaN         NaN  \n",
      "2      Mechposite                NaN         NaN  \n",
      "3      Mechposite                NaN         NaN  \n",
      "4      Mechposite                NaN         NaN  \n"
     ]
    }
   ],
   "source": [
    "import pandas as pd\n",
    "import os\n",
    "import random\n",
    "import pandas as pd\n",
    "\n",
    "downloads_path = os.path.join(os.path.expanduser(\"~\"), \"Downloads\")\n",
    "file_name = \"Tool_Inventory_EVC_Mech (1).xlsx\"\n",
    "file_path = os.path.join(downloads_path, file_name)\n",
    "df = pd.read_excel(file_path)\n",
    "print(df.head())\n"
   ]
  },
  {
   "cell_type": "code",
   "execution_count": 5,
   "id": "8dcef34b-adc3-42cf-b580-078be790aa07",
   "metadata": {},
   "outputs": [],
   "source": [
    "def hash_2_universal(s, p=2147483647, m=10007):\n",
    "    x = sum(ord(c) * (256 ** i) for i, c in enumerate(s))\n",
    "    a = random.randint(1, p - 1)\n",
    "    b = random.randint(0, p - 1)\n",
    "    return ((a * x + b) % p) % m"
   ]
  },
  {
   "cell_type": "code",
   "execution_count": 11,
   "id": "afe830fa-22b3-4471-b810-bffe288135e3",
   "metadata": {},
   "outputs": [],
   "source": [
    "keys = []\n",
    "for i in df['Item'].to_list():\n",
    "    keys.append(hash_2_universal(str(i)))\n",
    "df['Key'] = keys"
   ]
  },
  {
   "cell_type": "code",
   "execution_count": 23,
   "id": "3368fe6e-3e11-40bc-b6da-6cd99312b57c",
   "metadata": {},
   "outputs": [],
   "source": [
    "df.to_csv('Mech.csv', index=False)"
   ]
  },
  {
   "cell_type": "code",
   "execution_count": null,
   "id": "d83bc8a1-ebc5-4545-a426-dac3065d09ad",
   "metadata": {},
   "outputs": [],
   "source": []
  },
  {
   "cell_type": "code",
   "execution_count": null,
   "id": "238c84d6-4613-45ae-90bd-e616a9c0ca5b",
   "metadata": {},
   "outputs": [],
   "source": []
  }
 ],
 "metadata": {
  "kernelspec": {
   "display_name": "Python 3 (ipykernel)",
   "language": "python",
   "name": "python3"
  },
  "language_info": {
   "codemirror_mode": {
    "name": "ipython",
    "version": 3
   },
   "file_extension": ".py",
   "mimetype": "text/x-python",
   "name": "python",
   "nbconvert_exporter": "python",
   "pygments_lexer": "ipython3",
   "version": "3.12.4"
  }
 },
 "nbformat": 4,
 "nbformat_minor": 5
}
